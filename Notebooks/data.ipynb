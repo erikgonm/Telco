{
 "cells": [
  {
   "cell_type": "code",
   "execution_count": 2,
   "metadata": {},
   "outputs": [
    {
     "name": "stdout",
     "output_type": "stream",
     "text": [
      "Path to dataset files: C:\\Users\\Acer\\.cache\\kagglehub\\datasets\\blastchar\\telco-customer-churn\\versions\\1\n",
      "Archivo guardado en: ../data\\telco_customer_churn.csv\n"
     ]
    }
   ],
   "source": [
    "import os\n",
    "import kagglehub\n",
    "import shutil\n",
    "\n",
    "# Descargar el último dataset disponible\n",
    "path = kagglehub.dataset_download(\"blastchar/telco-customer-churn\")\n",
    "\n",
    "# Imprimir el path donde se encuentra el dataset descargado\n",
    "print(\"Path to dataset files:\", path)\n",
    "\n",
    "# Especificar la carpeta de destino donde guardar el archivo\n",
    "folder = '../data'\n",
    "\n",
    "\n",
    "# Ruta del archivo CSV descargado\n",
    "# En este caso, asumimos que el archivo .csv se encuentra en la ruta descargada\n",
    "# y tiene un nombre similar a 'Telco-Customer-Churn.csv' o algo relevante.\n",
    "\n",
    "# Lista de archivos descargados en la carpeta\n",
    "downloaded_files = os.listdir(path)\n",
    "\n",
    "# Buscar el archivo CSV en la carpeta descargada\n",
    "csv_file = None\n",
    "for file in downloaded_files:\n",
    "    if file.endswith('.csv'):\n",
    "        csv_file = file\n",
    "        break\n",
    "\n",
    "if csv_file:\n",
    "    # Copiar el archivo CSV a la carpeta 'data'\n",
    "    source_file = os.path.join(path, csv_file)\n",
    "    destination_file = os.path.join(folder, 'telco_customer_churn.csv')\n",
    "    shutil.copy(source_file, destination_file)\n",
    "    print(f\"Archivo guardado en: {destination_file}\")\n",
    "else:\n",
    "    print(\"No se encontró un archivo .csv en el dataset descargado.\")\n"
   ]
  },
  {
   "cell_type": "code",
   "execution_count": null,
   "metadata": {},
   "outputs": [],
   "source": []
  }
 ],
 "metadata": {
  "kernelspec": {
   "display_name": "env",
   "language": "python",
   "name": "python3"
  },
  "language_info": {
   "codemirror_mode": {
    "name": "ipython",
    "version": 3
   },
   "file_extension": ".py",
   "mimetype": "text/x-python",
   "name": "python",
   "nbconvert_exporter": "python",
   "pygments_lexer": "ipython3",
   "version": "3.13.2"
  }
 },
 "nbformat": 4,
 "nbformat_minor": 2
}
